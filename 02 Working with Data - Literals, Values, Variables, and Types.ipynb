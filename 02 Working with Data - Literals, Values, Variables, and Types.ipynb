{
 "cells": [
  {
   "cell_type": "markdown",
   "metadata": {},
   "source": [
    "# Introduction"
   ]
  },
  {
   "cell_type": "markdown",
   "metadata": {},
   "source": [
    "In this chapter we will cover the core data and variable types in Scala. \n",
    "Let’s start with the definitions of the terms literal, value, variable, and type:\n",
    "- A ***literal*** (or literal data) is data that appears directly in the source code, like the number 5, the character A, and the text “Hello, World.”\n",
    "- A ***value*** is an immutable, typed storage unit. A value can be assigned data when it is defined, but can never be reassigned.\n",
    "- A ***variable*** is a mutable, typed storage unit. A variable can be assigned data when it is defined and can also be reassigned data at any time.\n",
    "- A ***type*** is the kind of data you are working with, a definition or classification of data. All data in Scala corresponds to a specific type, and all Scala types are defined as classes with methods that operate on the data."
   ]
  },
  {
   "cell_type": "markdown",
   "metadata": {
    "collapsed": true
   },
   "source": [
    "The data stored in values and variables in Scala will get automatically deallocated by the Java Virtual Machine’s garbage collection when they are no longer used. There is no ability, or need, to deallocate them manually."
   ]
  },
  {
   "cell_type": "markdown",
   "metadata": {},
   "source": [
    "Scala values are defined with the syntax `val <name>: <type> = <literal>`, so we will create a value with the name `x`, type `Int` (short for “integer”), and assigned it the literal number `5`"
   ]
  },
  {
   "cell_type": "code",
   "execution_count": 1,
   "metadata": {},
   "outputs": [
    {
     "data": {
      "text/plain": [
       "\u001b[36mx\u001b[39m: \u001b[32mInt\u001b[39m = \u001b[32m5\u001b[39m"
      ]
     },
     "execution_count": 1,
     "metadata": {},
     "output_type": "execute_result"
    }
   ],
   "source": [
    "val x: Int = 5"
   ]
  },
  {
   "cell_type": "markdown",
   "metadata": {},
   "source": [
    "** What happened here? **\n",
    "\n",
    "The Kernael acting as REPL (again, a Read-Evaluate-Print-Loop shell) read the value definition, evaluated it, and reprinted it as a confirmation. \n",
    "The new value, named x, is now defined and available to use. So let’s use it:"
   ]
  },
  {
   "cell_type": "code",
   "execution_count": 2,
   "metadata": {},
   "outputs": [
    {
     "data": {
      "text/plain": [
       "\u001b[36mres1\u001b[39m: \u001b[32mInt\u001b[39m = \u001b[32m5\u001b[39m"
      ]
     },
     "execution_count": 2,
     "metadata": {},
     "output_type": "execute_result"
    }
   ],
   "source": [
    "x"
   ]
  },
  {
   "cell_type": "code",
   "execution_count": 3,
   "metadata": {},
   "outputs": [
    {
     "data": {
      "text/plain": [
       "\u001b[36mres2\u001b[39m: \u001b[32mInt\u001b[39m = \u001b[32m10\u001b[39m"
      ]
     },
     "execution_count": 3,
     "metadata": {},
     "output_type": "execute_result"
    }
   ],
   "source": [
    "x * 2"
   ]
  },
  {
   "cell_type": "code",
   "execution_count": 4,
   "metadata": {},
   "outputs": [
    {
     "data": {
      "text/plain": [
       "\u001b[36mres3\u001b[39m: \u001b[32mInt\u001b[39m = \u001b[32m1\u001b[39m"
      ]
     },
     "execution_count": 4,
     "metadata": {},
     "output_type": "execute_result"
    }
   ],
   "source": [
    "x / 5"
   ]
  },
  {
   "cell_type": "markdown",
   "metadata": {},
   "source": [
    "Each of these three input lines are valid Scala syntax and return an integer value. In each case, because a value is returned, the REPL repeats the value and its type and also assigns a unique, sequentially named value starting with `res0` (short for “result”). You can choose to make use of these “result” values just like any value you explicitly define:"
   ]
  },
  {
   "cell_type": "code",
   "execution_count": 5,
   "metadata": {},
   "outputs": [
    {
     "data": {
      "text/plain": [
       "\u001b[36mres4\u001b[39m: \u001b[32mInt\u001b[39m = \u001b[32m5\u001b[39m"
      ]
     },
     "execution_count": 5,
     "metadata": {},
     "output_type": "execute_result"
    }
   ],
   "source": [
    "res1 * res3"
   ]
  },
  {
   "cell_type": "markdown",
   "metadata": {},
   "source": [
    "Here the values res1 and res3 are multiplied, resulting in the value 5 being returned and stored in the new value named res4."
   ]
  },
  {
   "cell_type": "markdown",
   "metadata": {},
   "source": [
    "Let’s try working with **variables** now. Variables, which unlike values are mutable and can be reassigned new values, are defined with the syntax `var <name>: <type> = <literal>`."
   ]
  },
  {
   "cell_type": "code",
   "execution_count": 6,
   "metadata": {},
   "outputs": [
    {
     "data": {
      "text/plain": [
       "\u001b[36ma\u001b[39m: \u001b[32mDouble\u001b[39m = \u001b[32m2.72\u001b[39m"
      ]
     },
     "execution_count": 6,
     "metadata": {},
     "output_type": "execute_result"
    }
   ],
   "source": [
    "var a: Double = 2.72"
   ]
  },
  {
   "cell_type": "code",
   "execution_count": 9,
   "metadata": {
    "collapsed": true
   },
   "outputs": [],
   "source": [
    "a = 355.0 / 113.0"
   ]
  },
  {
   "cell_type": "code",
   "execution_count": 10,
   "metadata": {
    "collapsed": true
   },
   "outputs": [],
   "source": [
    "a = 5"
   ]
  },
  {
   "cell_type": "code",
   "execution_count": 11,
   "metadata": {},
   "outputs": [
    {
     "data": {
      "text/plain": [
       "\u001b[36mres10\u001b[39m: \u001b[32mDouble\u001b[39m = \u001b[32m5.0\u001b[39m"
      ]
     },
     "execution_count": 11,
     "metadata": {},
     "output_type": "execute_result"
    }
   ],
   "source": [
    "a"
   ]
  },
  {
   "cell_type": "markdown",
   "metadata": {},
   "source": [
    "In this example we defined the variable a to have the type Double, a double-precision floating-point number. And then, because it is a variable, we reassigned it to a different value."
   ]
  },
  {
   "cell_type": "markdown",
   "metadata": {},
   "source": [
    "## Values\n",
    "Values are immutable, typed storage units, and by convention are the default method for storing data. You can define a new value using the val keyword.\n",
    "**Syntax: Defining a Value **\n",
    "\n",
    "             val <identifier>[: <type>] = <data>\n",
    "\n",
    "Values require both a name and assigned data, but they do not require an explicit type. If the type is not specified (i.e., the `: <type>` syntax is not included), the Scala compiler will infer the type based on the assigned data. \n",
    "\n",
    "Here are some examples of defining values with their type:"
   ]
  },
  {
   "cell_type": "code",
   "execution_count": 12,
   "metadata": {},
   "outputs": [
    {
     "data": {
      "text/plain": [
       "\u001b[36mx\u001b[39m: \u001b[32mInt\u001b[39m = \u001b[32m20\u001b[39m"
      ]
     },
     "execution_count": 12,
     "metadata": {},
     "output_type": "execute_result"
    }
   ],
   "source": [
    "val x: Int = 20"
   ]
  },
  {
   "cell_type": "code",
   "execution_count": 13,
   "metadata": {},
   "outputs": [
    {
     "data": {
      "text/plain": [
       "\u001b[36mgreeting\u001b[39m: \u001b[32mString\u001b[39m = \u001b[32m\"Hello, World\"\u001b[39m"
      ]
     },
     "execution_count": 13,
     "metadata": {},
     "output_type": "execute_result"
    }
   ],
   "source": [
    "val greeting: String = \"Hello, World\""
   ]
  },
  {
   "cell_type": "code",
   "execution_count": 14,
   "metadata": {},
   "outputs": [
    {
     "data": {
      "text/plain": [
       "\u001b[36mcharacter\u001b[39m: \u001b[32mChar\u001b[39m = \u001b[32m'A'\u001b[39m"
      ]
     },
     "execution_count": 14,
     "metadata": {},
     "output_type": "execute_result"
    }
   ],
   "source": [
    "val character: Char = 'A'"
   ]
  },
  {
   "cell_type": "markdown",
   "metadata": {},
   "source": [
    "You may have noticed from the syntax diagram that specifying the type in value definitions is optional. In situations where it is possible to deduce the type of the value based on its assignment (for example, the literal `20` in the first example is obviously an integer), you can leave off the type from a value definition. \n",
    "\n",
    "The Scala compiler will then discern the type of the value from its assignment, a process known as ***type inference***. Values\n",
    "defined without a type are not typeless; they are assigned the proper type just as if the type had been included in the definition.\n",
    "\n",
    "Let’s try the examples again without specifying their types:"
   ]
  },
  {
   "cell_type": "code",
   "execution_count": 15,
   "metadata": {},
   "outputs": [
    {
     "data": {
      "text/plain": [
       "\u001b[36mx\u001b[39m: \u001b[32mInt\u001b[39m = \u001b[32m20\u001b[39m"
      ]
     },
     "execution_count": 15,
     "metadata": {},
     "output_type": "execute_result"
    }
   ],
   "source": [
    "val x = 20"
   ]
  },
  {
   "cell_type": "code",
   "execution_count": 16,
   "metadata": {},
   "outputs": [
    {
     "data": {
      "text/plain": [
       "\u001b[36mgreeting\u001b[39m: \u001b[32mString\u001b[39m = \u001b[32m\"Hello, World\"\u001b[39m"
      ]
     },
     "execution_count": 16,
     "metadata": {},
     "output_type": "execute_result"
    }
   ],
   "source": [
    "val greeting = \"Hello, World\""
   ]
  },
  {
   "cell_type": "code",
   "execution_count": 17,
   "metadata": {},
   "outputs": [
    {
     "data": {
      "text/plain": [
       "\u001b[36mcharacter\u001b[39m: \u001b[32mChar\u001b[39m = \u001b[32m'A'\u001b[39m"
      ]
     },
     "execution_count": 17,
     "metadata": {},
     "output_type": "execute_result"
    }
   ],
   "source": [
    "val character = 'A'"
   ]
  },
  {
   "cell_type": "markdown",
   "metadata": {},
   "source": [
    "In this example the values end up having the same types `(Int, String, and Char)` as they did when the types were explicitly stated. The Scala compiler, was able to deduce that the literal `20` corresponds to the type `Int`, the literal `\"Hello, World\"` to the type `String`, and the literal `A` to the type `Char`."
   ]
  },
  {
   "cell_type": "markdown",
   "metadata": {},
   "source": [
    "Using Scala’s type inference is a helpful shortcut when writing code because it removes the need to explicitly write the type of a value. \n",
    "\n",
    "As a guideline it should only be used when it does not reduce the readability of your code. In the case that someone reading\n",
    "your code would not be able to figure out what the type of the value is, it would be better to include the explicit type in the value definition.\n",
    "\n",
    "Although type inference will deduce the correct type to use to store data, it will not\n",
    "override an explicit type that you set. If you define a value with a type that is incompatible\n",
    "with the initial value you will get a compilation error:"
   ]
  },
  {
   "cell_type": "code",
   "execution_count": 17,
   "metadata": {},
   "outputs": [
    {
     "name": "stderr",
     "output_type": "stream",
     "text": [
      "cmd17.sc:1: type mismatch;\n",
      " found   : String(\"Hello\")\n",
      " required: Int\r\n",
      "val x: Int = \"Hello\"\r\n",
      "             ^"
     ]
    },
    {
     "ename": "",
     "evalue": "",
     "output_type": "error",
     "traceback": [
      "Compilation Failed"
     ]
    }
   ],
   "source": [
    "val x: Int = \"Hello\""
   ]
  },
  {
   "cell_type": "markdown",
   "metadata": {},
   "source": [
    "The error here affirms that an `Int` type cannot be used to store a `String`."
   ]
  },
  {
   "cell_type": "markdown",
   "metadata": {},
   "source": [
    "## Variables"
   ]
  },
  {
   "cell_type": "markdown",
   "metadata": {},
   "source": [
    "In computer science the term variable typically refers to a unique identifier corresponding to an allocated or reserved memory space, into which values can be stored and from which values can be retrieved. \n",
    "\n",
    "As long as the memory space is reserved, it can be assigned new values over and over again. Thus, the contents of the memory space are dynamic, or variable.\n",
    "\n",
    "In most languages, such as C, Java, PHP, Python, and Ruby, this is the typical pattern for working with named, assignable memory storage. Variables are dynamic, mutable, and reassignable (with the exception of those defined with special restrictions such as\n",
    "Java’s final keyword).\n",
    "\n",
    "**In Scala, values are preferred over variables by convention**, due to the stability and predictability they bring to source code. When you define a value you can be assured that it will retain the same value regardless of any other code that may access it.\n",
    "Reading and debugging code is easier when a value assigned at the beginning of a code segment is unchanged through the end of the code segment. Finally, when working with data that may be available for the life span of an application, or accessible from concurrent or multithreaded code, an immutable value will be more stable and less prone to errors than mutable data that may be modified at unexpected times."
   ]
  },
  {
   "cell_type": "markdown",
   "metadata": {},
   "source": [
    "Now that the preference for values over variables has been explained in detail, we can put that aside and cover how to use variables in Scala. The var keyword is used to define a variable with a given name, type, and assignment.\n",
    "\n",
    "** Syntax: Defining a Variable **\n",
    "        \n",
    "            var <identifier>[: <type>] = <data>\n",
    "            \n",
    "Like values, variables can be defined with or without an explicit type. If no type is specified the Scala compiler will use type inference to determine the correct type to assign to your variable. Unlike values, variables can be reassigned new data at any time. Here is an example of defining a variable and then reassigning it, in this case to the product of itself and another number:"
   ]
  },
  {
   "cell_type": "code",
   "execution_count": 18,
   "metadata": {},
   "outputs": [
    {
     "data": {
      "text/plain": [
       "\u001b[36mx\u001b[39m: \u001b[32mInt\u001b[39m = \u001b[32m5\u001b[39m"
      ]
     },
     "execution_count": 18,
     "metadata": {},
     "output_type": "execute_result"
    }
   ],
   "source": [
    "var x = 5"
   ]
  },
  {
   "cell_type": "code",
   "execution_count": 19,
   "metadata": {
    "collapsed": true
   },
   "outputs": [],
   "source": [
    "x = x * 4"
   ]
  },
  {
   "cell_type": "code",
   "execution_count": 20,
   "metadata": {},
   "outputs": [
    {
     "data": {
      "text/plain": [
       "\u001b[36mres19\u001b[39m: \u001b[32mInt\u001b[39m = \u001b[32m20\u001b[39m"
      ]
     },
     "execution_count": 20,
     "metadata": {},
     "output_type": "execute_result"
    }
   ],
   "source": [
    "x"
   ]
  },
  {
   "cell_type": "markdown",
   "metadata": {},
   "source": [
    "Although a variable can be reassigned, its designated type cannot, and so a variable cannot be reassigned data that has an incompatible type. For example, defining a variable of type `Int` and then assigning it a `String` value will result in a compiler error: "
   ]
  },
  {
   "cell_type": "code",
   "execution_count": 21,
   "metadata": {},
   "outputs": [
    {
     "data": {
      "text/plain": [
       "\u001b[36mx\u001b[39m: \u001b[32mInt\u001b[39m = \u001b[32m5\u001b[39m"
      ]
     },
     "execution_count": 21,
     "metadata": {},
     "output_type": "execute_result"
    }
   ],
   "source": [
    "var x = 5"
   ]
  },
  {
   "cell_type": "code",
   "execution_count": 21,
   "metadata": {},
   "outputs": [
    {
     "name": "stderr",
     "output_type": "stream",
     "text": [
      "cmd21.sc:1: type mismatch;\n",
      " found   : String(\"what\\'s up?\")\n",
      " required: Int\r\n",
      "val res21 = x = \"what's up?\"\r\n",
      "                ^"
     ]
    },
    {
     "ename": "",
     "evalue": "",
     "output_type": "error",
     "traceback": [
      "Compilation Failed"
     ]
    }
   ],
   "source": [
    "x = \"what's up?\""
   ]
  },
  {
   "cell_type": "markdown",
   "metadata": {},
   "source": [
    "However, defining a variable of type `Double` and assigning it an `Int` value will work because Int numbers can be converted to Double numbers automatically:"
   ]
  },
  {
   "cell_type": "code",
   "execution_count": 22,
   "metadata": {},
   "outputs": [
    {
     "data": {
      "text/plain": [
       "\u001b[36my\u001b[39m: \u001b[32mDouble\u001b[39m = \u001b[32m1.5\u001b[39m"
      ]
     },
     "execution_count": 22,
     "metadata": {},
     "output_type": "execute_result"
    }
   ],
   "source": [
    "var y = 1.5"
   ]
  },
  {
   "cell_type": "code",
   "execution_count": 23,
   "metadata": {
    "collapsed": true
   },
   "outputs": [],
   "source": [
    "y = 42"
   ]
  },
  {
   "cell_type": "code",
   "execution_count": 24,
   "metadata": {},
   "outputs": [
    {
     "data": {
      "text/plain": [
       "\u001b[36mres23\u001b[39m: \u001b[32mDouble\u001b[39m = \u001b[32m42.0\u001b[39m"
      ]
     },
     "execution_count": 24,
     "metadata": {},
     "output_type": "execute_result"
    }
   ],
   "source": [
    "y"
   ]
  },
  {
   "cell_type": "markdown",
   "metadata": {},
   "source": [
    "## Naming"
   ]
  },
  {
   "cell_type": "markdown",
   "metadata": {},
   "source": [
    "Scala names can use letters, numbers, and a range of special operator characters. This makes it possible to use standard mathematical operators (e.g., * and :+) and constants (e.g., π and φ) in place of longer names to make the code more expressive.\n",
    "\n",
    "Here are the rules for combining letters, numbers, and characters into valid identifiers in Scala:\n",
    "- A letter followed by zero or more letters and digits.\n",
    "- A letter followed by zero or more letters and digits, then an underscore (\\_), and then one or more of either letters and digits or operator characters.\n",
    "- One or more operator characters.\n",
    "- One or more of any character except a backquote, all enclosed in a pair of backquotes.\n",
    "\n",
    "Note: Names enclosed in backquotes can, unlike the other names, be reserved keywords in Scala such as true, while, =, and var."
   ]
  },
  {
   "cell_type": "markdown",
   "metadata": {},
   "source": [
    "Let’s try out some of these naming rules:"
   ]
  },
  {
   "cell_type": "code",
   "execution_count": 25,
   "metadata": {},
   "outputs": [
    {
     "data": {
      "text/plain": [
       "\u001b[36m?\u001b[39m: \u001b[32mDouble\u001b[39m = \u001b[32m3.14159\u001b[39m"
      ]
     },
     "execution_count": 25,
     "metadata": {},
     "output_type": "execute_result"
    }
   ],
   "source": [
    "val π = 3.14159 //The special character “π” is a valid Scala identifier."
   ]
  },
  {
   "cell_type": "code",
   "execution_count": 26,
   "metadata": {
    "collapsed": true
   },
   "outputs": [],
   "source": [
    "val $ = \"USD currency symbol\""
   ]
  },
  {
   "cell_type": "code",
   "execution_count": 27,
   "metadata": {},
   "outputs": [
    {
     "data": {
      "text/plain": [
       "\u001b[36mo_O\u001b[39m: \u001b[32mString\u001b[39m = \u001b[32m\"Hmm\"\u001b[39m"
      ]
     },
     "execution_count": 27,
     "metadata": {},
     "output_type": "execute_result"
    }
   ],
   "source": [
    "val o_O = \"Hmm\""
   ]
  },
  {
   "cell_type": "code",
   "execution_count": 27,
   "metadata": {},
   "outputs": [
    {
     "ename": "",
     "evalue": "",
     "output_type": "error",
     "traceback": [
      "SyntaxError: found \"= \\\"$0.50\\\"\", expected XmlPattern | Thingy | PatLiteral | TupleEx | Extractor | VarId at index 11",
      "val 50cent = \"$0.50\"",
      "           ^"
     ]
    }
   ],
   "source": [
    "val 50cent = \"$0.50\" // The value name “50cent” is invalid because names cannot start with numbers."
   ]
  },
  {
   "cell_type": "code",
   "execution_count": 27,
   "metadata": {},
   "outputs": [
    {
     "name": "stderr",
     "output_type": "stream",
     "text": [
      "cmd27.sc:1: value b is not a member of Double\r\n",
      "val a.b = 25\r\n",
      "      ^"
     ]
    },
    {
     "ename": "",
     "evalue": "",
     "output_type": "error",
     "traceback": [
      "Compilation Failed"
     ]
    }
   ],
   "source": [
    "val a.b = 25 // The value name “a.b” is invalid because a period isn’t an operator character."
   ]
  },
  {
   "cell_type": "code",
   "execution_count": 28,
   "metadata": {},
   "outputs": [
    {
     "data": {
      "text/plain": [
       "\u001b[36m`a.b`\u001b[39m: \u001b[32mInt\u001b[39m = \u001b[32m25\u001b[39m"
      ]
     },
     "execution_count": 28,
     "metadata": {},
     "output_type": "execute_result"
    }
   ],
   "source": [
    "val `a.b` = 25 // Rewriting this value with backquotes fixes the problem, although the aesthetics of using backquotes isn’t that great."
   ]
  },
  {
   "cell_type": "code",
   "execution_count": 29,
   "metadata": {},
   "outputs": [
    {
     "data": {
      "text/plain": [
       "\u001b[36m`50cent`\u001b[39m: \u001b[32mString\u001b[39m = \u001b[32m\"$0.50\"\u001b[39m"
      ]
     },
     "execution_count": 29,
     "metadata": {},
     "output_type": "execute_result"
    }
   ],
   "source": [
    "val `50cent` = \"$0.50\" // valid because enclosed in backquotes"
   ]
  },
  {
   "cell_type": "markdown",
   "metadata": {},
   "source": [
    "** Note:** \n",
    "\n",
    "Value and variable names, by convention, should start with a lowercase letter and then capitalize additional words. This is popularly known as `camel case`, and though not required it is recommended for all Scala developers.\n",
    "\n",
    "This helps to distinguish them from types and classes which (also by convention, not by rule) follow Pascal case which starts\n",
    "with an uppercase letter and all additional words as well start with uppercase as well"
   ]
  },
  {
   "cell_type": "markdown",
   "metadata": {},
   "source": [
    "## Types"
   ]
  },
  {
   "cell_type": "markdown",
   "metadata": {},
   "source": [
    "Scala has both numeric (e.g., `Int` and `Double`) and nonnumeric types (e.g., `String`) that can be used to define values and variables. These core types are the building blocks for all other types including objects and collections. These core types are themselves objects that have methods and operators that act on their data.\n",
    "\n",
    "Unlike Java and C there is no concept of a primitive type in Scala. While the Java Virtual Machine supports the primitive integer type int and the integer class Integer, Scala only supports its own integer class, Int."
   ]
  },
  {
   "cell_type": "markdown",
   "metadata": {},
   "source": [
    "### Numeric Data Types"
   ]
  },
  {
   "cell_type": "markdown",
   "metadata": {},
   "source": [
    "Core numeric types:\n",
    "\n",
    "```\n",
    "Byte -> Signed integer -> 1 byte -> –127 to 128\n",
    "\n",
    "Short -> Signed integer -> 2 bytes -> –32768 to 32767\n",
    "\n",
    "Int -> Signed integer -> 4 bytes -> –2^31 to (2^31)–1\n",
    "\n",
    "Long -> Signed -> integer -> 8 bytes -> –2^63 (2^63)–1\n",
    "\n",
    "Float -> Signed -> floating point -> 4 bytes -> N/A\n",
    "\n",
    "Double -> Signed -> floating point -> 8 bytes -> N/A\n",
    "```\n",
    "\n",
    "\n",
    "*See java.lang.Float and java.lang.Double for a description of the calculated maximum and minimum values for these floating-point numbers.*"
   ]
  },
  {
   "cell_type": "markdown",
   "metadata": {},
   "source": [
    "Scala supports the ability to automatically convert numbers from one type to another based on the rank of the type. The numeric types in above cell are sorted by their automatic conversion rank, where the Byte type is the lowest and can be converted to any\n",
    "other type.\n",
    "\n",
    "Let’s try this out by creating values of different types and automatically converting them to higher-ranked types:"
   ]
  },
  {
   "cell_type": "code",
   "execution_count": 30,
   "metadata": {},
   "outputs": [
    {
     "data": {
      "text/plain": [
       "\u001b[36mb\u001b[39m: \u001b[32mByte\u001b[39m = \u001b[32m10\u001b[39m"
      ]
     },
     "execution_count": 30,
     "metadata": {},
     "output_type": "execute_result"
    }
   ],
   "source": [
    "val b: Byte = 10"
   ]
  },
  {
   "cell_type": "code",
   "execution_count": 31,
   "metadata": {},
   "outputs": [
    {
     "data": {
      "text/plain": [
       "\u001b[36ms\u001b[39m: \u001b[32mShort\u001b[39m = \u001b[32m10\u001b[39m"
      ]
     },
     "execution_count": 31,
     "metadata": {},
     "output_type": "execute_result"
    }
   ],
   "source": [
    "val s: Short = b"
   ]
  },
  {
   "cell_type": "code",
   "execution_count": 32,
   "metadata": {},
   "outputs": [
    {
     "data": {
      "text/plain": [
       "\u001b[36md\u001b[39m: \u001b[32mDouble\u001b[39m = \u001b[32m10.0\u001b[39m"
      ]
     },
     "execution_count": 32,
     "metadata": {},
     "output_type": "execute_result"
    }
   ],
   "source": [
    "val d: Double = s"
   ]
  },
  {
   "cell_type": "markdown",
   "metadata": {},
   "source": [
    "The b and s values here were assigned to new values that had a higher rank, and so were automatically converted (or “upconverted” as some say) to the higher ranks.\n",
    "\n",
    "*Note: Java developers will recognize the names of these types, which are wrappers around the core JVM types of the same names (except the JVM’s Integer is Scala’s Int). Wrapping JVM types ensures that Scala and Java are interopable, and that Scala can make use of every Java library.*"
   ]
  },
  {
   "cell_type": "markdown",
   "metadata": {},
   "source": [
    "Scala does not allow automatic conversion from higher ranked types to lower ranked types. This makes sense, because you could otherwise lose data if you convert to a type with less storage. Here is an example of trying to automatically convert a higher ranked type to a lower ranked type and the ensuing error:"
   ]
  },
  {
   "cell_type": "code",
   "execution_count": 33,
   "metadata": {},
   "outputs": [
    {
     "data": {
      "text/plain": [
       "\u001b[36ml\u001b[39m: \u001b[32mLong\u001b[39m = \u001b[32m20L\u001b[39m"
      ]
     },
     "execution_count": 33,
     "metadata": {},
     "output_type": "execute_result"
    }
   ],
   "source": [
    "val l: Long = 20"
   ]
  },
  {
   "cell_type": "code",
   "execution_count": 33,
   "metadata": {},
   "outputs": [
    {
     "name": "stderr",
     "output_type": "stream",
     "text": [
      "cmd33.sc:1: type mismatch;\n",
      " found   : Long\n",
      " required: Int\r\n",
      "val i: Int = l\r\n",
      "             ^"
     ]
    },
    {
     "ename": "",
     "evalue": "",
     "output_type": "error",
     "traceback": [
      "Compilation Failed"
     ]
    }
   ],
   "source": [
    "val i: Int = l"
   ]
  },
  {
   "cell_type": "markdown",
   "metadata": {},
   "source": [
    "You can choose to manually convert between types using the `toType` methods available on all numeric types. Although this makes it possible to lose data by converting to a lesser ranked type, it is useful when you know that the data is compatible with the lower ranked type.\n",
    "\n",
    "For example, here is a Long value that can be safely converted to type Int using the **`toInt`** method, because its data is within the storage bounds of an Int:"
   ]
  },
  {
   "cell_type": "code",
   "execution_count": 34,
   "metadata": {},
   "outputs": [
    {
     "data": {
      "text/plain": [
       "\u001b[36ml\u001b[39m: \u001b[32mLong\u001b[39m = \u001b[32m20L\u001b[39m"
      ]
     },
     "execution_count": 34,
     "metadata": {},
     "output_type": "execute_result"
    }
   ],
   "source": [
    "val l: Int = 20L"
   ]
  },
  {
   "cell_type": "code",
   "execution_count": 35,
   "metadata": {},
   "outputs": [
    {
     "data": {
      "text/plain": [
       "\u001b[36mi\u001b[39m: \u001b[32mInt\u001b[39m = \u001b[32m20\u001b[39m"
      ]
     },
     "execution_count": 35,
     "metadata": {},
     "output_type": "execute_result"
    }
   ],
   "source": [
    "val i: Int = l.toInt"
   ]
  },
  {
   "cell_type": "markdown",
   "metadata": {},
   "source": [
    "An alternative to using explicit types is to specify the type of your literal data directly, using Scala’s notation for literal types."
   ]
  },
  {
   "cell_type": "code",
   "execution_count": 8,
   "metadata": {},
   "outputs": [
    {
     "data": {
      "text/plain": [
       "\u001b[36manInt\u001b[39m: \u001b[32mInt\u001b[39m = \u001b[32m5\u001b[39m\r\n",
       "\u001b[36maHex\u001b[39m: \u001b[32mInt\u001b[39m = \u001b[32m16776960\u001b[39m\r\n",
       "\u001b[36malong\u001b[39m: \u001b[32mLong\u001b[39m = \u001b[32m5L\u001b[39m\r\n",
       "\u001b[36maalong\u001b[39m: \u001b[32mLong\u001b[39m = \u001b[32m5L\u001b[39m\r\n",
       "\u001b[36maDouble\u001b[39m: \u001b[32mDouble\u001b[39m = \u001b[32m5.0\u001b[39m\r\n",
       "\u001b[36maFloat\u001b[39m: \u001b[32mFloat\u001b[39m = \u001b[32m5.0F\u001b[39m\r\n",
       "\u001b[36maaFloat\u001b[39m: \u001b[32mFloat\u001b[39m = \u001b[32m5.0F\u001b[39m\r\n",
       "\u001b[36maaDouble\u001b[39m: \u001b[32mDouble\u001b[39m = \u001b[32m5.0\u001b[39m\r\n",
       "\u001b[36maaaDouble\u001b[39m: \u001b[32mDouble\u001b[39m = \u001b[32m5.0\u001b[39m"
      ]
     },
     "execution_count": 8,
     "metadata": {},
     "output_type": "execute_result"
    }
   ],
   "source": [
    "val anInt = 5 // By default integer literals are Int\n",
    "val aHex = 0xffff00 // 0x denotes hexadecimal notation\n",
    "val along = 5L // L or l denotes Long Type\n",
    "val aalong = 5l // same as above\n",
    "val aDouble = 5.0 // By default decimal literals are Double\n",
    "val aFloat = 5f // F or f denotes Float type\n",
    "val aaFloat = 5F // same as above\n",
    "val aaDouble = 5d // D or d suffix denotes Double type\n",
    "val aaaDouble =5D // same as above"
   ]
  },
  {
   "cell_type": "markdown",
   "metadata": {},
   "source": [
    "## Strings\n",
    "\n",
    "The String type represents “strings” of text, one of the most common core types in any programming language. Scala’s String is built on Java’s String and adds unique features like multiline literals and string interpolation.\n",
    "\n",
    "We can define String literals using double quotes, with special characters escaped with backslashes:"
   ]
  },
  {
   "cell_type": "code",
   "execution_count": 9,
   "metadata": {},
   "outputs": [
    {
     "data": {
      "text/plain": [
       "\u001b[36mhello\u001b[39m: \u001b[32mString\u001b[39m = \u001b[32m\"Hello Scala\"\u001b[39m"
      ]
     },
     "execution_count": 9,
     "metadata": {},
     "output_type": "execute_result"
    }
   ],
   "source": [
    "val hello = \"Hello Scala\""
   ]
  },
  {
   "cell_type": "code",
   "execution_count": 11,
   "metadata": {},
   "outputs": [
    {
     "data": {
      "text/plain": [
       "\u001b[36mmySign\u001b[39m: \u001b[32mString\u001b[39m = \u001b[32m\"\"\"\n",
       "Warm Regards, \n",
       "Your Friend\n",
       "\"\"\"\u001b[39m"
      ]
     },
     "execution_count": 11,
     "metadata": {},
     "output_type": "execute_result"
    }
   ],
   "source": [
    "val mySign = \"Warm Regards, \\nYour Friend\""
   ]
  },
  {
   "cell_type": "markdown",
   "metadata": {},
   "source": [
    "Like numeric types, the String type supports the use of math operators. For example,use the equals operator (==) to compare two String values. \n",
    "\n",
    "Unlike Java, the equals operator (==) checks for true equality, not object reference equality:"
   ]
  },
  {
   "cell_type": "code",
   "execution_count": 12,
   "metadata": {},
   "outputs": [
    {
     "data": {
      "text/plain": [
       "\u001b[36mgreeting\u001b[39m: \u001b[32mString\u001b[39m = \u001b[32m\"Hello, World\"\u001b[39m\r\n",
       "\u001b[36misMatched\u001b[39m: \u001b[32mBoolean\u001b[39m = \u001b[32mtrue\u001b[39m"
      ]
     },
     "execution_count": 12,
     "metadata": {},
     "output_type": "execute_result"
    }
   ],
   "source": [
    "val greeting = \"Hello, \" + \"World\"\n",
    "val isMatched = (greeting == \"Hello, World\")"
   ]
  },
  {
   "cell_type": "code",
   "execution_count": 13,
   "metadata": {},
   "outputs": [
    {
     "data": {
      "text/plain": [
       "\u001b[36mtheme\u001b[39m: \u001b[32mString\u001b[39m = \u001b[32m\"Na Na Na Na Na Na Na Na Na Na Na Na Na Na Na Na Batman\"\u001b[39m"
      ]
     },
     "execution_count": 13,
     "metadata": {},
     "output_type": "execute_result"
    }
   ],
   "source": [
    "val theme = \"Na \" * 16 + \"Batman\""
   ]
  },
  {
   "cell_type": "markdown",
   "metadata": {},
   "source": [
    "A multiline String can be created using triple-quotes. Multiline strings are literal, and so do not recognize the use of backslashes as the start of special characters"
   ]
  },
  {
   "cell_type": "code",
   "execution_count": 21,
   "metadata": {},
   "outputs": [
    {
     "data": {
      "text/plain": [
       "\u001b[36mmultiLineGreeting\u001b[39m: \u001b[32mString\u001b[39m = \u001b[32m\"\"\"\n",
       "Learning \n",
       "Scala \n",
       "I am in \n",
       "Chapter 2\\n02 \"Working with Data\" \\n\\t- Literals, Values, Variables, and Types.\n",
       "\"\"\"\u001b[39m"
      ]
     },
     "execution_count": 21,
     "metadata": {},
     "output_type": "execute_result"
    }
   ],
   "source": [
    "val multiLineGreeting = \"\"\"Learning \n",
    "Scala \n",
    "I am in \n",
    "Chapter 2\\n02 \"Working with Data\" \\n\\t- Literals, Values, Variables, and Types.\"\"\""
   ]
  },
  {
   "cell_type": "code",
   "execution_count": 22,
   "metadata": {},
   "outputs": [
    {
     "data": {
      "text/plain": [
       "\u001b[36msingleLineGreeting\u001b[39m: \u001b[32mString\u001b[39m = \u001b[32m\"\"\"\n",
       "Learning Scala \n",
       "I am in Chapter 2\n",
       "\t02 \"Working with Data\" - Literals, Values, Variables, and Types.\n",
       "\"\"\"\u001b[39m"
      ]
     },
     "execution_count": 22,
     "metadata": {},
     "output_type": "execute_result"
    }
   ],
   "source": [
    "val singleLineGreeting = \"Learning Scala \\nI am in Chapter 2\\n\\t02 \\\"Working with Data\\\" - Literals, Values, Variables, and Types.\""
   ]
  },
  {
   "cell_type": "markdown",
   "metadata": {},
   "source": [
    "### String interpolation\n",
    "\n",
    "A way to combine your values or variables inside a String is with string interpolation, a special mode where external value and variable names are recognized and resolved. \n",
    "\n",
    "The Scala notation for string interpolation is an “s” prefix added before the first double quote of the string. \n",
    "\n",
    "Then dollar sign operators ($) (with optional braces) can be used to note references to external data."
   ]
  },
  {
   "cell_type": "code",
   "execution_count": 1,
   "metadata": {},
   "outputs": [
    {
     "data": {
      "text/plain": [
       "\u001b[36mitemCost\u001b[39m: \u001b[32mDouble\u001b[39m = \u001b[32m2.0\u001b[39m"
      ]
     },
     "execution_count": 1,
     "metadata": {},
     "output_type": "execute_result"
    }
   ],
   "source": [
    "val itemCost = 2d"
   ]
  },
  {
   "cell_type": "code",
   "execution_count": 2,
   "metadata": {},
   "outputs": [
    {
     "data": {
      "text/plain": [
       "\u001b[36mitem\u001b[39m: \u001b[32mString\u001b[39m = \u001b[32m\"apple\"\u001b[39m"
      ]
     },
     "execution_count": 2,
     "metadata": {},
     "output_type": "execute_result"
    }
   ],
   "source": [
    "val item = \"apple\" "
   ]
  },
  {
   "cell_type": "code",
   "execution_count": 3,
   "metadata": {},
   "outputs": [
    {
     "data": {
      "text/plain": [
       "\u001b[36mres2\u001b[39m: \u001b[32mString\u001b[39m = \u001b[32m\"How many apples can you eat?\"\u001b[39m"
      ]
     },
     "execution_count": 3,
     "metadata": {},
     "output_type": "execute_result"
    }
   ],
   "source": [
    "s\"How many ${item}s can you eat?\""
   ]
  },
  {
   "cell_type": "code",
   "execution_count": 4,
   "metadata": {},
   "outputs": [
    {
     "data": {
      "text/plain": [
       "\u001b[36mmyFood\u001b[39m: \u001b[32mString\u001b[39m = \u001b[32m\"Let's have apples, lot of water water water and go home\"\u001b[39m"
      ]
     },
     "execution_count": 4,
     "metadata": {},
     "output_type": "execute_result"
    }
   ],
   "source": [
    "val myFood = s\"Let's have ${item}s, lot of ${\"water \" * 3}and go home\""
   ]
  },
  {
   "cell_type": "code",
   "execution_count": 5,
   "metadata": {},
   "outputs": [
    {
     "name": "stdout",
     "output_type": "stream",
     "text": [
      "Cost of apple is 2.0\n"
     ]
    }
   ],
   "source": [
    "println(s\"Cost of $item is $itemCost\")"
   ]
  },
  {
   "cell_type": "code",
   "execution_count": 7,
   "metadata": {},
   "outputs": [
    {
     "name": "stdout",
     "output_type": "stream",
     "text": [
      "Cost of 5 apples is 10.0\n"
     ]
    }
   ],
   "source": [
    "println(s\"Cost of 5 ${item}s is ${5 * itemCost}\")"
   ]
  },
  {
   "cell_type": "markdown",
   "metadata": {},
   "source": [
    "An alternate format for string interpolation uses printf notation, very useful when you\n",
    "want to control the data formatting such as the character count or display of decimal\n",
    "values. To use printf notation change the prefix to an “f” and follow the end of the\n",
    "reference immediately with the printf notation:"
   ]
  },
  {
   "cell_type": "code",
   "execution_count": 1,
   "metadata": {},
   "outputs": [
    {
     "data": {
      "text/plain": [
       "\u001b[36mitem\u001b[39m: \u001b[32mString\u001b[39m = \u001b[32m\"apple\"\u001b[39m\r\n",
       "\u001b[36mres0_1\u001b[39m: \u001b[32mString\u001b[39m = \u001b[32m\"I ate three app today\"\u001b[39m"
      ]
     },
     "execution_count": 1,
     "metadata": {},
     "output_type": "execute_result"
    }
   ],
   "source": [
    "val item = \"apple\"\n",
    "f\"I ate three $item%.3s today\""
   ]
  },
  {
   "cell_type": "code",
   "execution_count": 2,
   "metadata": {},
   "outputs": [
    {
     "data": {
      "text/plain": [
       "\u001b[36mres1\u001b[39m: \u001b[32mString\u001b[39m = \u001b[32m\"Enjoying this apple 3.14159 times today\"\u001b[39m"
      ]
     },
     "execution_count": 2,
     "metadata": {},
     "output_type": "execute_result"
    }
   ],
   "source": [
    "f\"Enjoying this $item ${355/113.0}%.5f times today\""
   ]
  },
  {
   "cell_type": "markdown",
   "metadata": {},
   "source": [
    "## Regular expressions"
   ]
  },
  {
   "cell_type": "markdown",
   "metadata": {},
   "source": [
    "A regular expression is a string of characters and punctuation that represents a search pattern. Popularized by Perl and command-line utilities like Grep, regular expressions are a standard feature in the libraries of most programming languages including Scala.\n",
    "\n",
    "The format for Scala’s regular expressions is based on the Java class `java.util.regex.Pattern`. I recommend reading the Javadoc (the Java API documentation) for `java.util.regex.Pattern` if you are unfamiliar with this type, because Java’s (and thus Scala’s) regular expressions may be different from the format you have used with other languages and tools."
   ]
  },
  {
   "cell_type": "code",
   "execution_count": 3,
   "metadata": {},
   "outputs": [
    {
     "data": {
      "text/plain": [
       "\u001b[36mres2\u001b[39m: \u001b[32mBoolean\u001b[39m = \u001b[32mtrue\u001b[39m"
      ]
     },
     "execution_count": 3,
     "metadata": {},
     "output_type": "execute_result"
    }
   ],
   "source": [
    "// matches\n",
    "\"Froggy went a' courting\" matches \".* courting\""
   ]
  },
  {
   "cell_type": "code",
   "execution_count": 5,
   "metadata": {},
   "outputs": [
    {
     "data": {
      "text/plain": [
       "\u001b[36mres4\u001b[39m: \u001b[32mString\u001b[39m = \u001b[32m\"coffee, tea, coffee\"\u001b[39m"
      ]
     },
     "execution_count": 5,
     "metadata": {},
     "output_type": "execute_result"
    }
   ],
   "source": [
    "// replaceAll\n",
    "\"milk, tea, muck\" replaceAll (\"m[^ ]+k\", \"coffee\")"
   ]
  },
  {
   "cell_type": "code",
   "execution_count": 7,
   "metadata": {},
   "outputs": [
    {
     "data": {
      "text/plain": [
       "\u001b[36mres6\u001b[39m: \u001b[32mString\u001b[39m = \u001b[32m\"coffee, tea, muck\"\u001b[39m"
      ]
     },
     "execution_count": 7,
     "metadata": {},
     "output_type": "execute_result"
    }
   ],
   "source": [
    "//replaceFirst\n",
    "\"milk, tea, muck\" replaceFirst (\"m[^ ]+k\", \"coffee\")"
   ]
  },
  {
   "cell_type": "markdown",
   "metadata": {},
   "source": [
    "For more advanced handling of regular expressions, convert a string to a regular expression type by invoking its r operator. This will return a Regex instance that can handle additional search and replace operations as well as capture group support. \n",
    "\n",
    "A capture group makes it possible to select items in a given string and convert them to local values based on the regular expression pattern. The pattern must include at least one capture group defined by parentheses, and the input must include at least one of the captured patterns to return the value.\n",
    "\n",
    "**Syntax: Capturing Values with Regular Expressions**\n",
    "                \n",
    "                val <Regex value>(<identifier>) = <input string>"
   ]
  },
  {
   "cell_type": "code",
   "execution_count": 8,
   "metadata": {},
   "outputs": [
    {
     "data": {
      "text/plain": [
       "\u001b[36minput\u001b[39m: \u001b[32mString\u001b[39m = \u001b[32m\"Enjoying this apple 3.14159 times today\"\u001b[39m"
      ]
     },
     "execution_count": 8,
     "metadata": {},
     "output_type": "execute_result"
    }
   ],
   "source": [
    "val input = \"Enjoying this apple 3.14159 times today\""
   ]
  },
  {
   "cell_type": "code",
   "execution_count": 17,
   "metadata": {},
   "outputs": [
    {
     "data": {
      "text/plain": [
       "\u001b[36mpattern\u001b[39m: \u001b[32mutil\u001b[39m.\u001b[32mmatching\u001b[39m.\u001b[32mRegex\u001b[39m = .* apple ([\\d.]+) times .*"
      ]
     },
     "execution_count": 17,
     "metadata": {},
     "output_type": "execute_result"
    }
   ],
   "source": [
    "// The capture group here is a series of digits and a period between the words apple and times.\n",
    "// This returns util.matching.Regex which is short form of scala.util.matching.Regex\n",
    "val pattern = \"\"\".* apple ([\\d.]+) times .*\"\"\".r"
   ]
  },
  {
   "cell_type": "code",
   "execution_count": 18,
   "metadata": {},
   "outputs": [
    {
     "data": {
      "text/plain": [
       "\u001b[36mextractedAmount\u001b[39m: \u001b[32mString\u001b[39m = \u001b[32m\"3.14159\"\u001b[39m"
      ]
     },
     "execution_count": 18,
     "metadata": {},
     "output_type": "execute_result"
    }
   ],
   "source": [
    "// The format is admittedly a bit odd. The name of the new value containing the capture group match, extractedAmount\n",
    "// does not directly follow the val identifier.\n",
    "val pattern(extractedAmount) = input"
   ]
  },
  {
   "cell_type": "markdown",
   "metadata": {},
   "source": [
    "Regular expressions serve as a compact and efficient means to process text, with operations such as matching, replacing, and capturing"
   ]
  },
  {
   "cell_type": "markdown",
   "metadata": {},
   "source": [
    "## An Overview of Scala Types"
   ]
  },
  {
   "cell_type": "markdown",
   "metadata": {},
   "source": [
    "In this section we will move on from numbers and strings to a broader look at the range of core types. All of Scala’s types, from numbers to strings to collections, exist as part of a type hierarchy. Every class that you define in Scala will also belong to this hierarchy automatically."
   ]
  },
  {
   "cell_type": "markdown",
   "metadata": {},
   "source": [
    "        Any -> The root of all types in Scala -> Not Instantiable\n",
    "        AnyVal -> The root of all value types -> Not Instantiable\n",
    "        AnyRef -> The root of all reference (nonvalue) types -> Not Instantiable\n",
    "        Nothing -> The subclass of all types -> Not Instantiable\n",
    "        Null -> The subclass of all AnyRef types signifying a null value -> Not Instantiable\n",
    "        Char -> Unicode character -> Possible to Instantiate\n",
    "        Boolean -> true or false -> Possible to Instantiate\n",
    "        String -> A string of characters (i.e., text) -> Possible to Instantiate\n",
    "        Unit -> Denotes the lack of a value -> Not Instantiable\n",
    "        \n",
    "- The Any, AnyVal, and AnyRef types are the root of Scala’s type hierarchy. Any is the absolute root, and all other types descend from its two children, AnyVal and AnyRef\n",
    "\n",
    "- The types that extend AnyVal are known as value types because they are the core values used to represent data. They include all of the numeric types plus Char, Boolean, and Unit. AnyVal types are accessed just like other types but may be allocated at runtime either on the heap as objects or locally on the stack as a JVM primitive value.\n",
    "\n",
    "- All other types have AnyRef as their root and are only ever allocated on the heap as objects. The term “Ref ” in “AnyRef” indicates they they are reference types that are accessed via a memory reference.\n",
    "\n",
    "- At the bottom of the Scala type hierarchy are the Nothing and Null types. Nothing is a subtype of every other type and exists to provide a compatible return type for operations that significantly affect a program’s flow. For example, the return keyword, which exits a function early with a return value, has a return type of Nothing so it can be used in the middle of initializing a value and not affect the type of that value. Nothing is only used as a type, because it cannot be instantiated.\n",
    "\n",
    "- The other bottom type is Null, a subtype of all AnyRef types that exists to provide a type for the keyword null. A String variable, for example, can be assigned null at any time, such that the variable does not point to any string instance in memory. This assignment of null to a variable declared as type String is acceptable because null is a compatible type for String. Defining a type for null is an example of how Scala’s syntax prefers the use of real types and instances to reserved keywords.\n",
    "\n",
    "- Char is the only type that could also appear in “Numeric Data Types”. As the basis of the String type it contains a single character and so is sometimes considered to be a unit of text. Essentially it is a scalar type that can be converted to and from other numbers. Char literals are written with single quotes, distinguishing them from String literals, which are written with double quotes.\n",
    "    \n",
    "                scala> val c = 'A'\n",
    "                c: Char = A\n",
    "                \n",
    "                scala> val i: Int = c\n",
    "                i: Int = 65\n",
    "                \n",
    "                scala> val t: Char = 116\n",
    "                t: Char = t\n",
    "\n",
    "- The Boolean type is limited to the values true and false. In addition to using true and false, you can also obtain Boolean values from comparison and Boolean logic operators:\n",
    "                \n",
    "                scala> val isTrue = !true\n",
    "                isTrue: Boolean = false\n",
    "                \n",
    "                scala> val isFalse = !true\n",
    "                isFalse: Boolean = false\n",
    "                \n",
    "                scala> val unequal = (5 != 6)\n",
    "                unequal: Boolean = true\n",
    "                \n",
    "                scala> val isLess = (5 < 6)\n",
    "                isLess: Boolean = true\n",
    "                \n",
    "                scala> val unequalAndLess = unequal & isLess\n",
    "                unequalAndLess: Boolean = true\n",
    "                \n",
    "                scala> val definitelyFalse = false && unequal\n",
    "                definitelyFalse: Boolean = false\n",
    "       \n",
    "- The Unit type is unlike the other core types here (numeric and nonnumeric) in that instead of denoting a type of data it denotes the lack of data. In a way it is similar to the void keyword used in Java and C, which is used to define a function that doesn’t return data. The Unit type is similarly used in Scala as the return type for functions or expressions that don’t return anything. For example, the common println function could be said to return a Unit type because it returns nothing. The Unit literal is an empty pair of parentheses, (), which if you consider it is a fine\n",
    "representation of not having a value. If you want you can define a value or variable with the Unit type, but again its common usage is for defining functions and expressions:\n",
    "\n",
    "                scala> val nada = ()\n",
    "                nada: Unit = ()"
   ]
  },
  {
   "cell_type": "markdown",
   "metadata": {},
   "source": [
    "**What is the Difference Between & and && ?**\n",
    "\n",
    "The Boolean comparison operators && and || are lazy in that they will not bother evaluating the second argument if the first argument is\n",
    "sufficient. The operators & and | will always check both arguments before returning a result."
   ]
  },
  {
   "cell_type": "markdown",
   "metadata": {},
   "source": [
    "### Type operations"
   ]
  },
  {
   "cell_type": "markdown",
   "metadata": {},
   "source": [
    "Below the operations available on all types in Scala. The toString and hashCode methods are required on all JVM instances.\n",
    "\n",
    "    - asInstanceOf[<type>]: Converts the value to a value of the desired type. Causes an error if the value is not compatible with the new type.\n",
    "    Ex: `5.asInstanceOf[Long]`\n",
    "\n",
    "    - getClass: Returns the type (i.e., the class) of a value. \n",
    "    Ex: (7.0 / 5).getClass\n",
    "    \n",
    "    - isInstanceOf: Returns true if the value has the given type.\n",
    "    Ex: (5.0).isInstanceOf[Float]\n",
    "\n",
    "    - hashCode: Returns the hash code of the value, useful for hashbased collections.\n",
    "    Ex: (3.0 / 4.0).toString\n",
    "    \n",
    "    - to<type>  Conversion functions to convert a value to a compatible value.\n",
    "    Ex: 20.toByte; 47.toFloat\n",
    "    \n",
    "    - toString Renders the value to a String\n",
    "    Ex: (3.0 / 4.0).toString\n",
    "   \n",
    "   \n",
    "***Avoid asInstanceOf\n",
    "The asInstanceOf operation will cause an error if the value cannot be converted to the requested type. To avoid runtime errors with this operation, prefer the `to<type>` typed conversion operations when possible.***   "
   ]
  },
  {
   "cell_type": "code",
   "execution_count": 18,
   "metadata": {},
   "outputs": [
    {
     "ename": "",
     "evalue": "",
     "output_type": "error",
     "traceback": [
      "SyntaxError: found \"page 25\", expected \"while\" | CharPred(<function1>) | \"-\".? ~ (Float | Int) | Bool | String | \"'\" ~/ (Char | Symbol) | `null` | \"import\" | Dcl | TraitDef | ClsDef | ObjDef | \"{\" | \"new\" | \"(\" | AlphabetKeywords | SymbolicKeywords | \"package\" | \"if\" | LocalMod | AccessMod | `override` | \"@\" | \"`\" | `this` | `super` ~ ClassQualifier.? | End | \"implicit\" | \"throw\" | \"return\" | \"try\" | \"for\" | \"do\" | Element | CDSect | PI | Comment at index 0",
      "page 25",
      "^"
     ]
    }
   ],
   "source": [
    "page 25"
   ]
  },
  {
   "cell_type": "code",
   "execution_count": null,
   "metadata": {
    "collapsed": true
   },
   "outputs": [],
   "source": []
  }
 ],
 "metadata": {
  "kernelspec": {
   "display_name": "Scala",
   "language": "scala",
   "name": "scala"
  },
  "language_info": {
   "codemirror_mode": "text/x-scala",
   "file_extension": ".scala",
   "mimetype": "text/x-scala",
   "name": "scala211",
   "nbconvert_exporter": "script",
   "pygments_lexer": "scala",
   "version": "2.11.11"
  }
 },
 "nbformat": 4,
 "nbformat_minor": 2
}
